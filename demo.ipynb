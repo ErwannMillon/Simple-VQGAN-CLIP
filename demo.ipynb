{
 "cells": [
  {
   "cell_type": "code",
   "execution_count": 2,
   "metadata": {},
   "outputs": [
    {
     "name": "stdout",
     "output_type": "stream",
     "text": [
      "{'base_learning_rate': 4.5e-06, 'target': 'taming.models.vqgan.VQModel', 'params': {'embed_dim': 256, 'n_embed': 16384, 'monitor': 'val/rec_loss', 'ddconfig': {'double_z': False, 'z_channels': 256, 'resolution': 256, 'in_channels': 3, 'out_ch': 3, 'ch': 128, 'ch_mult': [1, 1, 2, 2, 4], 'num_res_blocks': 2, 'attn_resolutions': [16], 'dropout': 0.0}, 'lossconfig': {'target': 'taming.modules.losses.vqperceptual.VQLPIPSWithDiscriminator', 'params': {'disc_conditional': False, 'disc_in_channels': 3, 'disc_start': 0, 'disc_weight': 0.75, 'disc_num_layers': 2, 'codebook_weight': 1.0}}}}\n"
     ]
    }
   ],
   "source": [
    "import torch\n",
    "from omegaconf import OmegaConf\n",
    "x = OmegaConf.load(\"./model_checkpoints/imagenet.yaml\")\n",
    "# x = torch.load('model_checkpoints/imagenet.ckpt', map_location='cpu')\n",
    "# \n",
    "print(x.model)"
   ]
  },
  {
   "cell_type": "code",
   "execution_count": 2,
   "metadata": {},
   "outputs": [
    {
     "name": "stdout",
     "output_type": "stream",
     "text": [
      "model:\n",
      "  base_learning_rate: 4.5e-06\n",
      "  params:\n",
      "    ddconfig:\n",
      "      attn_resolutions:\n",
      "      - 16\n",
      "      ch: 128\n",
      "      ch_mult:\n",
      "      - 1\n",
      "      - 1\n",
      "      - 2\n",
      "      - 2\n",
      "      - 4\n",
      "      double_z: false\n",
      "      dropout: 0.0\n",
      "      in_channels: 3\n",
      "      num_res_blocks: 2\n",
      "      out_ch: 3\n",
      "      resolution: 256\n",
      "      z_channels: 256\n",
      "    embed_dim: 256\n",
      "    lossconfig:\n",
      "      params:\n",
      "        codebook_weight: 1.0\n",
      "        disc_conditional: false\n",
      "        disc_in_channels: 3\n",
      "        disc_num_layers: 2\n",
      "        disc_start: 0\n",
      "        disc_weight: 0.75\n",
      "      target: taming.modules.losses.vqperceptual.VQLPIPSWithDiscriminator\n",
      "    monitor: val/rec_loss\n",
      "    n_embed: 16384\n",
      "  target: taming.models.vqgan.VQModel\n",
      "\n",
      "Working with z of shape (1, 256, 16, 16) = 65536 dimensions.\n"
     ]
    },
    {
     "name": "stderr",
     "output_type": "stream",
     "text": [
      "/opt/homebrew/Caskroom/miniforge/base/envs/face_edit/lib/python3.9/site-packages/torchvision/models/_utils.py:208: UserWarning: The parameter 'pretrained' is deprecated since 0.13 and may be removed in the future, please use 'weights' instead.\n",
      "  warnings.warn(\n",
      "/opt/homebrew/Caskroom/miniforge/base/envs/face_edit/lib/python3.9/site-packages/torchvision/models/_utils.py:223: UserWarning: Arguments other than a weight enum or `None` for 'weights' are deprecated since 0.13 and may be removed in the future. The current behavior is equivalent to passing `weights=VGG16_Weights.IMAGENET1K_V1`. You can also use `weights=VGG16_Weights.DEFAULT` to get the most up-to-date weights.\n",
      "  warnings.warn(msg)\n"
     ]
    },
    {
     "name": "stdout",
     "output_type": "stream",
     "text": [
      "loaded pretrained LPIPS loss from taming/modules/autoencoder/lpips/vgg.pth\n",
      "VQLPIPSWithDiscriminator running with hinge loss.\n",
      "self.latent_dim = (1, 256, 16, 16)\n"
     ]
    }
   ],
   "source": [
    "import importlib\n",
    "import VQGAN_CLIP\n",
    "importlib.reload(VQGAN_CLIP)\n",
    "vqgan_clip = VQGAN_CLIP.VQGAN_CLIP(\n",
    "    device=\"cpu\",\n",
    "    vqgan_config=\"./model_checkpoints/imagenet.yaml\",\n",
    "    vqgan_checkpoint=\"./model_checkpoints/imagenet.ckpt\",\n",
    ")"
   ]
  },
  {
   "cell_type": "code",
   "execution_count": 3,
   "metadata": {},
   "outputs": [
    {
     "name": "stdout",
     "output_type": "stream",
     "text": [
      "{'prompts': ['a happy woman'], 'weights': tensor([1.], device='mps:0')}\n",
      "[]\n"
     ]
    }
   ],
   "source": [
    "vqgan_clip.generate(\n",
    "    pos_prompts=[\"a happy woman\"],\n",
    "    show_intermediate=True,\n",
    ")"
   ]
  },
  {
   "cell_type": "code",
   "execution_count": null,
   "metadata": {},
   "outputs": [
    {
     "name": "stdout",
     "output_type": "stream",
     "text": [
      "a\n"
     ]
    }
   ],
   "source": [
    "assert \"a\"\n",
    "print(\"a\")"
   ]
  }
 ],
 "metadata": {
  "kernelspec": {
   "display_name": "face_edit",
   "language": "python",
   "name": "python3"
  },
  "language_info": {
   "codemirror_mode": {
    "name": "ipython",
    "version": 3
   },
   "file_extension": ".py",
   "mimetype": "text/x-python",
   "name": "python",
   "nbconvert_exporter": "python",
   "pygments_lexer": "ipython3",
   "version": "3.9.15"
  },
  "orig_nbformat": 4,
  "vscode": {
   "interpreter": {
    "hash": "35cb555fce573a845f2acf7690152b1c427fb235f3a0f376e91532b130b9dd60"
   }
  }
 },
 "nbformat": 4,
 "nbformat_minor": 2
}
