{
 "cells": [
  {
   "cell_type": "code",
   "execution_count": null,
   "metadata": {},
   "outputs": [],
   "source": []
  },
  {
   "cell_type": "code",
   "execution_count": null,
   "metadata": {},
   "outputs": [],
   "source": [
    "\n",
    "from VQGAN_CLIP import VQGAN_CLIP\n",
    "vqgan_clip = VQGAN_CLIP()\n",
    "vqgan_clip.lr = .07\n",
    "vqgan_clip.iterations = 15\n",
    "vqgan_clip.generate(\n",
    "    pos_prompts= [\"a picture of a beautiful asian woman\", \"a picture of a woman from Japan\"],\n",
    "    neg_prompts=[\"a picture of an Indian person\", \"a picture of a white person\"],\n",
    "    image_path=\"./test_images/face.jpeg\",\n",
    "    show_intermediate=True,\n",
    "    save_intermediate=True,\n",
    ")"
   ]
  }
 ],
 "metadata": {
  "kernelspec": {
   "display_name": "face_edit",
   "language": "python",
   "name": "python3"
  },
  "language_info": {
   "codemirror_mode": {
    "name": "ipython",
    "version": 3
   },
   "file_extension": ".py",
   "mimetype": "text/x-python",
   "name": "python",
   "nbconvert_exporter": "python",
   "pygments_lexer": "ipython3",
   "version": "3.9.15 | packaged by conda-forge | (main, Nov 22 2022, 08:50:29) \n[Clang 14.0.6 ]"
  },
  "orig_nbformat": 4,
  "vscode": {
   "interpreter": {
    "hash": "35cb555fce573a845f2acf7690152b1c427fb235f3a0f376e91532b130b9dd60"
   }
  }
 },
 "nbformat": 4,
 "nbformat_minor": 2
}
